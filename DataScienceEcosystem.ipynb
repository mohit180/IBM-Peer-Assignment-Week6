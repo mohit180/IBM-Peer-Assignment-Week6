{
 "cells": [
  {
   "cell_type": "markdown",
   "id": "01d52ea5",
   "metadata": {},
   "source": [
    "# Data Science Tools and Ecosystem"
   ]
  },
  {
   "cell_type": "markdown",
   "id": "c0198e51",
   "metadata": {},
   "source": [
    "## In this notebook, Data Science Tools and Ecosystem are summarized."
   ]
  },
  {
   "cell_type": "markdown",
   "id": "32a5fe83",
   "metadata": {},
   "source": [
    "__Objectives:__\n",
    "\n",
    "* List of the popular languages that Data Scientists use.\n",
    "* List of the commonly used libraries used by Data Scientists.\n",
    "* Table of Data Science tools.\n",
    "* Few examples of evaluating arithmetic expressions in Python."
   ]
  },
  {
   "cell_type": "markdown",
   "id": "11800c93",
   "metadata": {},
   "source": [
    "### Some of the popular languages that Data Scientists use are:"
   ]
  },
  {
   "cell_type": "markdown",
   "id": "f36daeb9",
   "metadata": {},
   "source": [
    "1.  PYTHON\n",
    "2.  R\n",
    "3.  SQL\n",
    "4.  JULIA\n",
    "5.  JAVASCRIPT"
   ]
  },
  {
   "cell_type": "markdown",
   "id": "abcfd712",
   "metadata": {},
   "source": [
    "### Some of the commonly used libraries used by Data Scientists include:"
   ]
  },
  {
   "cell_type": "markdown",
   "id": "9502039b",
   "metadata": {},
   "source": [
    "1. PANDAS\n",
    "2. NUMPY\n",
    "3. MATPLOTLIB\n",
    "4. SEABORN\n",
    "5. SCIKIT-LEARN"
   ]
  },
  {
   "cell_type": "markdown",
   "id": "d29bc18e",
   "metadata": {},
   "source": [
    "### Table of Data Science tools :"
   ]
  },
  {
   "cell_type": "markdown",
   "id": "3d959fd4",
   "metadata": {},
   "source": [
    "|Data Science Tools|\n",
    "|---|\n",
    "|Hadoop|\n",
    "|ApacheSpark|\n",
    "|SAS|\n",
    "|TensorFlow|"
   ]
  },
  {
   "cell_type": "markdown",
   "id": "087a3611",
   "metadata": {},
   "source": [
    "### Below are a few examples of evaluating arithmetic expressions in Python"
   ]
  },
  {
   "cell_type": "markdown",
   "id": "50528d1a",
   "metadata": {},
   "source": [
    "#### This a simple arithmetic expression to mutiply then add integers"
   ]
  },
  {
   "cell_type": "code",
   "execution_count": 2,
   "id": "6fb8fcc1",
   "metadata": {},
   "outputs": [
    {
     "name": "stdout",
     "output_type": "stream",
     "text": [
      "17\n"
     ]
    }
   ],
   "source": [
    "print((3*4)+5)"
   ]
  },
  {
   "cell_type": "markdown",
   "id": "bfeda634",
   "metadata": {},
   "source": [
    "#### This will convert 200 minutes to hours by diving by 60"
   ]
  },
  {
   "cell_type": "code",
   "execution_count": 8,
   "id": "3c021c19",
   "metadata": {},
   "outputs": [
    {
     "name": "stdout",
     "output_type": "stream",
     "text": [
      "3.3333333333333335 Hours\n"
     ]
    }
   ],
   "source": [
    "print(str(200/60)+\" \" + \"Hours\")"
   ]
  },
  {
   "cell_type": "markdown",
   "id": "2a77e084",
   "metadata": {},
   "source": [
    "## Author\n",
    "\n",
    "Mohit Nagar"
   ]
  }
 ],
 "metadata": {
  "kernelspec": {
   "display_name": "Python 3 (ipykernel)",
   "language": "python",
   "name": "python3"
  },
  "language_info": {
   "codemirror_mode": {
    "name": "ipython",
    "version": 3
   },
   "file_extension": ".py",
   "mimetype": "text/x-python",
   "name": "python",
   "nbconvert_exporter": "python",
   "pygments_lexer": "ipython3",
   "version": "3.11.5"
  }
 },
 "nbformat": 4,
 "nbformat_minor": 5
}
